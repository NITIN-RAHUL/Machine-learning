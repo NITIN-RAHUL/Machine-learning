{
  "nbformat": 4,
  "nbformat_minor": 0,
  "metadata": {
    "colab": {
      "provenance": [],
      "authorship_tag": "ABX9TyMx56vkgW9dOmOYb7s08TW4",
      "include_colab_link": true
    },
    "kernelspec": {
      "name": "python3",
      "display_name": "Python 3"
    },
    "language_info": {
      "name": "python"
    }
  },
  "cells": [
    {
      "cell_type": "markdown",
      "metadata": {
        "id": "view-in-github",
        "colab_type": "text"
      },
      "source": [
        "<a href=\"https://colab.research.google.com/github/NITIN-RAHUL/Machine-learning/blob/main/l1_l2.ipynb\" target=\"_parent\"><img src=\"https://colab.research.google.com/assets/colab-badge.svg\" alt=\"Open In Colab\"/></a>"
      ]
    },
    {
      "cell_type": "code",
      "execution_count": null,
      "metadata": {
        "id": "JoyGciGA-f-H"
      },
      "outputs": [],
      "source": [
        "import numpy as np\n",
        "import pandas as pd"
      ]
    },
    {
      "cell_type": "code",
      "source": [
        "x=np.array([1,2,3,4,5])\n",
        "y=np.array([2.1,3.8,6.5,9.2,11.3])"
      ],
      "metadata": {
        "id": "YFJv5fH5--ZH"
      },
      "execution_count": null,
      "outputs": []
    },
    {
      "cell_type": "code",
      "source": [
        "x_b=np.c_[np.ones((x.shape[0],1)),x]\n",
        "x_b"
      ],
      "metadata": {
        "colab": {
          "base_uri": "https://localhost:8080/"
        },
        "id": "aC7zXMvb_ZmG",
        "outputId": "b8ebe3dc-a0b8-4f59-c98d-0e31e3fa774e"
      },
      "execution_count": null,
      "outputs": [
        {
          "output_type": "execute_result",
          "data": {
            "text/plain": [
              "array([[1., 1.],\n",
              "       [1., 2.],\n",
              "       [1., 3.],\n",
              "       [1., 4.],\n",
              "       [1., 5.]])"
            ]
          },
          "metadata": {},
          "execution_count": 40
        }
      ]
    },
    {
      "cell_type": "code",
      "source": [
        "alpha_ridge=1.0\n",
        "alpha_lasso=0.1\n",
        "num_iterations=1000\n",
        "learning_rate=0.01\n"
      ],
      "metadata": {
        "id": "IrTVglRd_xLK"
      },
      "execution_count": null,
      "outputs": []
    },
    {
      "cell_type": "code",
      "source": [
        "from numpy.lib.function_base import gradient\n",
        "def lesso_regression(x,y,alpha,num_iterations,learning_rate):\n",
        "  m,n=x.shape\n",
        "  theta=np.zeros(n)\n",
        "  for _ in range(num_iterations):\n",
        "    y_pred = x.dot(theta)\n",
        "    gradient=(x.T.dot(y_pred-y)+alpha*np.sign(theta))/m\n",
        "    theta-=learning_rate*gradient\n",
        "  return theta"
      ],
      "metadata": {
        "id": "GH-J2IIYAM77"
      },
      "execution_count": null,
      "outputs": []
    },
    {
      "cell_type": "code",
      "source": [
        "def ridge_regression(x,y,alpha,num_iterations,learning_rate):\n",
        "  m,n=x.shape\n",
        "  theta=np.zeros(n)\n",
        "  for _ in range(num_iterations):\n",
        "    y_pred = x.dot(theta)\n",
        "    gradient=(x.T.dot(y_pred-y)+alpha*theta)/m\n",
        "    theta-=learning_rate*gradient\n",
        "  return theta"
      ],
      "metadata": {
        "id": "WRcJbeJIB3Ce"
      },
      "execution_count": null,
      "outputs": []
    },
    {
      "cell_type": "code",
      "source": [
        "ridge=ridge_regression(x_b,y,alpha_ridge,num_iterations,learning_rate)\n",
        "lasso=lesso_regression(x_b,y,alpha_lasso,num_iterations,learning_rate)\n"
      ],
      "metadata": {
        "id": "5qwTeFMHDLgu"
      },
      "execution_count": null,
      "outputs": []
    },
    {
      "cell_type": "code",
      "source": [
        "plt.scatter(x,y,label='Data')\n",
        "plt.plot(x,x_b.dot(theta_ridge),label=f'Ridge (l2) Regression',color='Red')\n",
        "plt.plot(x,x_b.dot(theta_lesso),label=f'lesso (l2) Regression',color='Blue')\n"
      ],
      "metadata": {
        "id": "0o3rgQsAEvLr"
      },
      "execution_count": null,
      "outputs": []
    }
  ]
}